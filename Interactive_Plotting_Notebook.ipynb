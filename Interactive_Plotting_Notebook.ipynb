{
 "cells": [
  {
   "cell_type": "markdown",
   "metadata": {},
   "source": [
    "# Advanced Interactive Plotting in Python\n\n",
    "This notebook provides a professional guide to creating interactive plots in Python. We will explore various techniques, starting from basic static plots with `matplotlib` and progressing to fully interactive visualizations using `ipywidgets` and `plotly`.\n\n",
    "**Learning Objectives:**\n",
    "* Understand the fundamentals of plotting with `matplotlib`.\n",
    "* Learn how to make plots interactive with `ipywidgets`.\n",
    "* Create advanced, web-based visualizations with `plotly`.\n",
    "* Combine `ipywidgets` and `plotly` for complex interactive dashboards."
   ]
  },
  {
   "cell_type": "markdown",
   "metadata": {},
   "source": [
    "## 1. Basic Static Plotting with Matplotlib\n\n",
    "We begin by plotting several elementary mathematical functions to understand their behavior. This section serves as a foundation, using the popular `matplotlib` library for creating static plots."
   ]
  },
  {
   "cell_type": "code",
   "execution_count": null,
   "metadata": {},
   "outputs": [],
   "source": [
    "import numpy as np\n",
    "import matplotlib.pyplot as plt\n",
    "\n",
    "# Define the range of x values\n",
    "x1 = np.linspace(-10, 10, 400)       # Quadratic and exponential\n",
    "x2 = np.linspace(0, 2 * np.pi, 400)  # Sine and cosine\n",
    "x3 = np.linspace(0.1, 10, 400)       # Logarithmic\n",
    "\n",
    "# Define the functions\n",
    "y1 = x1**2\n",
    "y2 = np.sin(x2)\n",
    "y3 = np.cos(x2)\n",
    "y4 = np.exp(x1)\n",
    "y5 = np.log(x3)\n",
    "\n",
    "# Create subplots\n",
    "fig, ax = plt.subplots(3, 2, figsize=(12, 10))\n",
    "\n",
    "# Quadratic\n",
    "ax[0, 0].plot(x1, y1, label=r'$f(x) = x^2$', color='b')\n",
    "ax[0, 0].set_title('Quadratic Function: $f(x) = x^2$')\n",
    "ax[0, 0].set_xlabel('x')\n",
    "ax[0, 0].set_ylabel('f(x)')\n",
    "ax[0, 0].grid(True)\n",
    "ax[0, 0].legend()\n",
    "\n",
    "# Sine\n",
    "ax[0, 1].plot(x2, y2, label=r'$f(x) = \\sin(x)$', color='r')\n",
    "ax[0, 1].set_title('Sine Function: $f(x) = \\sin(x)$')\n",
    "ax[0, 1].set_xlabel('x')\n",
    "ax[0, 1].set_ylabel('f(x)')\n",
    "ax[0, 1].grid(True)\n",
    "ax[0, 1].legend()\n",
    "\n",
    "# Cosine\n",
    "ax[1, 0].plot(x2, y3, label=r'$f(x) = \\cos(x)$', color='g')\n",
    "ax[1, 0].set_title('Cosine Function: $f(x) = \\cos(x)$')\n",
    "ax[1, 0].set_xlabel('x')\n",
    "ax[1, 0].set_ylabel('f(x)')\n",
    "ax[1, 0].grid(True)\n",
    "ax[1, 0].legend()\n",
    "\n",
    "# Exponential\n",
    "ax[1, 1].plot(x1, y4, label=r'$f(x) = e^x$', color='m')\n",
    "ax[1, 1].set_title('Exponential Function: $f(x) = e^x$')\n",
    "ax[1, 1].set_xlabel('x')\n",
    "ax[1, 1].set_ylabel('f(x)')\n",
    "ax[1, 1].grid(True)\n",
    "ax[1, 1].legend()\n",
    "\n",
    "# Logarithmic\n",
    "ax[2, 0].plot(x3, y5, label=r'$f(x) = \\ln(x)$', color='c')\n",
    "ax[2, 0].set_title('Logarithmic Function: $f(x) = \\ln(x)$')\n",
    "ax[2, 0].set_xlabel('x')\n",
    "ax[2, 0].set_ylabel('f(x)')\n",
    "ax[2, 0].grid(True)\n",
    "ax[2, 0].legend()\n",
    "\n",
    "# Hide unused subplot\n",
    "ax[2, 1].axis('off')\n",
    "\n",
    "# Layout adjustment\n",
    "plt.tight_layout()\n",
    "plt.show()"
   ]
  },
  {
   "cell_type": "markdown",
   "metadata": {},
   "source": [
    "## 📊 Result and Discussion\n\n",
    "- Quadratic: Symmetric parabola opening upwards.\n\n",
    "- Sine: Oscillates between -1 and 1 with a period of $2\\pi$.\n\n",
    "- Cosine: Similar to sine, phase-shifted by 90°.\n\n",
    "- Exponential: Rapid growth for $x>0$ , decay for $x<0$.\n\n",
    "- Logarithmic: Slowly increasing for $x>0$ , undefined for $x\\leq 0$."
   ]
  },
  {
   "cell_type": "markdown",
   "metadata": {},
   "source": [
    "## 🧩 Application Problem\n\n",
    "In a real-time system simulation, the function $f(x)=2x^3-3x^2+5\\sin x+\\frac{8}{x+1}$ models the response time of a processor node under varying load conditions $x$ , where $x\\in [-0.9,10]$  to avoid division by zero."
   ]
  },
  {
   "cell_type": "code",
   "execution_count": null,
   "metadata": {},
   "outputs": [],
   "source": [
    "x_app = np.linspace(-0.9, 10, 400)\n",
    "y_app = 2 * x_app**3 - 3 * x_app**2 + 5 * np.sin(x_app) + 8 / (x_app + 1)\n",
    "\n",
    "plt.figure(figsize=(10, 6))\n",
    "plt.plot(x_app, y_app, label=r'$f(x) = 2x^3 - 3x^2 + 5\\sin(x) + \\frac{8}{x+1}$', color='darkorange')\n",
    "plt.title('Application Function: Processor Response Time')\n",
    "plt.xlabel('System Load (x)')\n",
    "plt.ylabel('Response Time f(x)')\n",
    "plt.grid(True)\n",
    "plt.legend()\n",
    "plt.tight_layout()\n",
    "plt.show()"
   ]
  },
  {
   "cell_type": "markdown",
   "metadata": {},
   "source": [
    "## 2. Interactive Plotting with ipywidgets\n\n",
    "`ipywidgets` allows us to create UI controls for our notebooks. Here, we'll make our plots interactive by adding sliders to control function parameters."
   ]
  },
  {
   "cell_type": "code",
   "execution_count": null,
   "metadata": {},
   "outputs": [],
   "source": [
    "import ipywidgets as widgets\n",
    "from ipywidgets import interact\n",
    "\n",
    "def plot_quadratic(a, b, c):\n",
    "    x = np.linspace(-10, 10, 400)\n",
    "    y = a * x**2 + b * x + c\n",
    "    \n",
    "    plt.figure(figsize=(8, 5))\n",
    "    plt.plot(x, y, label=f'$f(x) = {a}x^2 + {b}x + {c}$')\n",
    "    plt.title('Interactive Quadratic Function')\n",
    "    plt.xlabel('x')\n",
    "    plt.ylabel('f(x)')\n",
    "    plt.grid(True)\n",
    "    plt.legend()\n",
    "    plt.ylim(-20, 20) # Set a fixed y-axis limit for better visualization\n",
    "    plt.show()\n",
    "\n",
    "interact(plot_quadratic, a=(-5.0, 5.0), b=(-5.0, 5.0), c=(-10.0, 10.0));"
   ]
  },
  {
   "cell_type": "markdown",
   "metadata": {},
   "source": [
    "## 3. Advanced Interactive Visualizations with Plotly\n\n",
    "`plotly` is a powerful library for creating web-based, interactive visualizations. We will now recreate our earlier plots using `plotly` to demonstrate its capabilities, such as zoom, pan, and hover-to-view data."
   ]
  },
  {
   "cell_type": "code",
   "execution_count": null,
   "metadata": {},
   "outputs": [],
   "source": [
    "import plotly.graph_objects as go\n",
    "\n",
    "# Recreate the sine and cosine plots with Plotly\n",
    "x = np.linspace(0, 2 * np.pi, 400)\n",
    "y_sin = np.sin(x)\n",
    "y_cos = np.cos(x)\n",
    "\n",
    "fig = go.Figure()\n",
    "\n",
    "fig.add_trace(go.Scatter(x=x, y=y_sin, mode='lines', name='sin(x)'))\n",
    "fig.add_trace(go.Scatter(x=x, y=y_cos, mode='lines', name='cos(x)'))\n",
    "\n",
    "fig.update_layout(\n",
    "    title='Interactive Sine and Cosine Functions with Plotly',\n",
    "    xaxis_title='x',\n",
    "    yaxis_title='f(x)',\n",
    "    legend_title='Functions',\n",
    "    hovermode='x unified'\n",
    ")\n",
    "\n",
    "fig.show()"
   ]
  },
  {
   "cell_type": "markdown",
   "metadata": {},
   "source": [
    "## Advanced Combined Example: Interactive 3D Surface Plot"
   ]
  },
  {
   "cell_type": "code",
   "execution_count": null,
   "metadata": {},
   "outputs": [],
   "source": [
    "from ipywidgets import interact, FloatSlider\n",
    "\n",
    "# Define the function to plot the 3D surface\n",
    "def plot_3d_surface(k):\n",
    "    x = np.linspace(-10, 10, 50)\n",
    "    y = np.linspace(-10, 10, 50)\n",
    "    x_grid, y_grid = np.meshgrid(x, y)\n",
    "    z = np.sin(np.sqrt(x_grid**2 + y_grid**2) - k)\n",
    "    \n",
    "    fig = go.Figure(data=[go.Surface(z=z, x=x_grid, y=y_grid, colorscale='viridis')])\n",
    "    \n",
    "    fig.update_layout(\n",
    "        title=f'Interactive 3D Surface Plot (k={k:.2f})',\n",
    "        scene=dict(\n",
    "            xaxis_title='x-axis',\n",
    "            yaxis_title='y-axis',\n",
    "            zaxis_title='z-axis'\n",
    "        ),\n",
    "        autosize=False,\n",
    "        width=800,\n",
    "        height=600\n",
    "    )\n",
    "    \n",
    "    fig.show()\n",
    "\n",
    "# Create the slider and interact\n",
    "interact(plot_3d_surface, k=FloatSlider(min=0, max=10, step=0.1, value=0));"
   ]
  },
  {
   "cell_type": "markdown",
   "metadata": {},
   "source": [
    "## 5. Conclusion\n\n",
    "This notebook has demonstrated a progression from basic static plotting with `matplotlib` to advanced, interactive visualizations with `ipywidgets` and `plotly`. By mastering these tools, you can create professional, engaging, and informative data visualizations directly within your Jupyter notebooks.\n\n",
    "**Key Takeaways:**\n",
    "- **Matplotlib:** Best for static, publication-quality plots.\n",
    "- **ipywidgets:** Excellent for adding simple interactivity to `matplotlib` plots and other notebook elements.\n",
    "- **Plotly:** The go-to for web-based, highly interactive charts and dashboards.\n",
    "- **Combined Approach:** The combination of `ipywidgets` and `plotly` offers the ultimate flexibility for creating complex, interactive applications."
   ]
  }
 ],
 "metadata": {
  "kernelspec": {
   "display_name": "Python 3",
   "language": "python",
   "name": "python3"
  },
  "language_info": {
   "codemirror_mode": {
    "name": "ipython",
    "version": 3
   },
   "file_extension": ".py",
   "mimetype": "text/x-python",
   "name": "python",
   "nbconvert_exporter": "python",
   "pygments_lexer": "ipython3",
   "version": "3.10.9"
  }
 },
 "nbformat": 4,
 "nbformat_minor": 4
}
